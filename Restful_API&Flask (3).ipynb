{
  "nbformat": 4,
  "nbformat_minor": 0,
  "metadata": {
    "colab": {
      "provenance": []
    },
    "kernelspec": {
      "name": "python3",
      "display_name": "Python 3"
    },
    "language_info": {
      "name": "python"
    }
  },
  "cells": [
    {
      "cell_type": "markdown",
      "source": [
        "1. **What is a RESTful API?**  \n",
        "   A RESTful API (Representational State Transfer API) follows REST principles, using HTTP methods to perform operations on resources via URLs.  \n",
        "\n",
        "2. **Explain the concept of API specification.**  \n",
        "   An API specification defines how an API works, including endpoints, request/response formats, authentication, and error handling.  \n",
        "\n",
        "3. **What is Flask, and why is it popular for building APIs?**  \n",
        "   Flask is a lightweight Python web framework. It is popular for APIs due to its simplicity, flexibility, and support for extensions like Flask-RESTful.  \n",
        "\n",
        "4. **What is routing in Flask?**  \n",
        "   Routing maps URLs to specific functions that handle requests and return responses.  \n",
        "\n",
        "5. **How do you create a simple Flask application?**  \n",
        "   ```python\n",
        "   from flask import Flask  \n",
        "   app = Flask(__name__)  \n",
        "\n",
        "   @app.route('/')  \n",
        "   def home():  \n",
        "       return \"Hello, Flask!\"  \n",
        "\n",
        "   if __name__ == '__main__':  \n",
        "       app.run(debug=True)\n",
        "   ```  \n",
        "\n",
        "6. **What are HTTP methods used in RESTful APIs?**  \n",
        "   - `GET`: Retrieve data  \n",
        "   - `POST`: Create data  \n",
        "   - `PUT`: Update data  \n",
        "   - `DELETE`: Remove data  \n",
        "   - `PATCH`: Partially update data  \n",
        "\n",
        "7. **What is the purpose of the @app.route() decorator in Flask?**  \n",
        "   It defines URL routes and binds them to specific functions.  \n",
        "\n",
        "8. **What is the difference between GET and POST HTTP methods?**  \n",
        "   - `GET`: Retrieves data from the server.  \n",
        "   - `POST`: Sends data to create a new resource.  \n",
        "\n",
        "9. **How do you handle errors in Flask APIs?**  \n",
        "   Use error handlers with Flask’s `@app.errorhandler()` decorator and return appropriate HTTP status codes.  \n",
        "\n",
        "10. **How do you connect Flask to a SQL database?**  \n",
        "   Use Flask-SQLAlchemy to define models and interact with the database.  \n",
        "\n",
        "11. **What is the role of Flask-SQLAlchemy?**  \n",
        "   It provides an ORM (Object-Relational Mapper) for database interactions.  \n",
        "\n",
        "12. **What are Flask blueprints, and how are they useful?**  \n",
        "   Blueprints allow structuring large applications into modular components.  \n",
        "\n",
        "13. **What is the purpose of Flask's request object?**  \n",
        "   It provides access to request data like form inputs, JSON, and headers.  \n",
        "\n",
        "14. **How do you create a RESTful API endpoint using Flask?**  \n",
        "   ```python\n",
        "   from flask import Flask, jsonify  \n",
        "\n",
        "   app = Flask(__name__)  \n",
        "\n",
        "   @app.route('/api/data', methods=['GET'])  \n",
        "   def get_data():  \n",
        "       return jsonify({\"message\": \"Hello, API!\"})  \n",
        "\n",
        "   if __name__ == '__main__':  \n",
        "       app.run(debug=True)\n",
        "   ```  \n",
        "\n",
        "15. **What is the purpose of Flask's jsonify() function?**  \n",
        "   It converts Python dictionaries into JSON responses.  \n",
        "\n",
        "16. **Explain Flask’s url_for() function.**  \n",
        "   It dynamically generates URLs for routes using function names.  \n",
        "\n",
        "17. **How does Flask handle static files (CSS, JavaScript, etc.)?**  \n",
        "   Flask serves static files from the `static/` directory.  \n",
        "\n",
        "18. **What is an API specification, and how does it help in building a Flask API?**  \n",
        "   It standardizes API behavior, ensuring consistency in endpoints and responses.  \n",
        "\n",
        "19. **What are HTTP status codes, and why are they important in a Flask API?**  \n",
        "   Status codes indicate request results (e.g., `200 OK`, `404 Not Found`, `500 Internal Server Error`).  \n",
        "\n",
        "20. **How do you handle POST requests in Flask?**  \n",
        "   ```python\n",
        "   from flask import Flask, request, jsonify  \n",
        "\n",
        "   app = Flask(__name__)  \n",
        "\n",
        "   @app.route('/api/data', methods=['POST'])  \n",
        "   def post_data():  \n",
        "       data = request.json  \n",
        "       return jsonify({\"received\": data}), 201  \n",
        "\n",
        "   if __name__ == '__main__':  \n",
        "       app.run(debug=True)\n",
        "   ```  \n",
        "\n",
        "21. **How would you secure a Flask API?**  \n",
        "   - Use authentication (JWT, OAuth).  \n",
        "   - Implement rate limiting.  \n",
        "   - Sanitize inputs to prevent attacks.  \n",
        "   - Use HTTPS.  \n",
        "\n",
        "22. **What is the significance of the Flask-RESTful extension?**  \n",
        "   It simplifies the creation of RESTful APIs with class-based views.  \n",
        "\n",
        "23. **What is the role of Flask’s session object?**  \n",
        "   It stores user data across requests using secure, server-side storage."
      ],
      "metadata": {
        "id": "voVKyYqwliht"
      }
    },
    {
      "cell_type": "markdown",
      "source": [
        "**practical questions**"
      ],
      "metadata": {
        "id": "W4fQZWcBmV4c"
      }
    },
    {
      "cell_type": "markdown",
      "source": [
        " 1.How do you create a basic Flask application?"
      ],
      "metadata": {
        "id": "Tp7OUbHwmPmT"
      }
    },
    {
      "cell_type": "code",
      "source": [
        "from flask import Flask\n",
        "\n",
        "app = Flask(__name__)\n",
        "\n",
        "@app.route('/')\n",
        "def home():\n",
        "    return \"Hello, Flask!\"\n",
        "\n",
        "if __name__ == '__main__':\n",
        "    app.run(debug=True)\n"
      ],
      "metadata": {
        "colab": {
          "base_uri": "https://localhost:8080/",
          "height": 0
        },
        "collapsed": true,
        "id": "3X_Qh76VmjP5",
        "outputId": "fc3df07d-b66d-4ed2-ebf9-3f392ceb34f4"
      },
      "execution_count": null,
      "outputs": [
        {
          "output_type": "stream",
          "name": "stdout",
          "text": [
            " * Serving Flask app '__main__'\n",
            " * Debug mode: on\n"
          ]
        },
        {
          "output_type": "stream",
          "name": "stderr",
          "text": [
            "INFO:werkzeug:\u001b[31m\u001b[1mWARNING: This is a development server. Do not use it in a production deployment. Use a production WSGI server instead.\u001b[0m\n",
            " * Running on http://127.0.0.1:5000\n",
            "INFO:werkzeug:\u001b[33mPress CTRL+C to quit\u001b[0m\n",
            "INFO:werkzeug: * Restarting with stat\n"
          ]
        }
      ]
    },
    {
      "cell_type": "markdown",
      "source": [
        "2.How do you serve static files like images or CSS in Flask?"
      ],
      "metadata": {
        "id": "U-liD0xIm1AK"
      }
    },
    {
      "cell_type": "code",
      "source": [
        "from flask import Flask, send_from_directory\n",
        "\n",
        "app = Flask(__name__, static_folder='static')\n",
        "\n",
        "@app.route('/static/<path:filename>')\n",
        "def serve_static(filename):\n",
        "    return send_from_directory(app.static_folder, filename)\n",
        "\n",
        "if __name__ == '__main__':\n",
        "    app.run(debug=True)\n"
      ],
      "metadata": {
        "id": "KcrFK0mZmxzn"
      },
      "execution_count": null,
      "outputs": []
    },
    {
      "cell_type": "markdown",
      "source": [
        "3. How do you define different routes with different HTTP methods in Flask?"
      ],
      "metadata": {
        "id": "fhxy3EQgnTgQ"
      }
    },
    {
      "cell_type": "code",
      "source": [
        "from flask import Flask, request\n",
        "\n",
        "app = Flask(__name__)\n",
        "\n",
        "@app.route('/data', methods=['GET', 'POST'])\n",
        "def data():\n",
        "    if request.method == 'GET':\n",
        "        return \"This is a GET request\"\n",
        "    elif request.method == 'POST':\n",
        "        return \"This is a POST request\"\n",
        "\n",
        "if __name__ == '__main__':\n",
        "    app.run(debug=True)\n"
      ],
      "metadata": {
        "id": "hBcCscV_ncgu"
      },
      "execution_count": null,
      "outputs": []
    },
    {
      "cell_type": "markdown",
      "source": [
        "4. How do you render HTML templates in Flask?"
      ],
      "metadata": {
        "id": "TSvkAMQqni3v"
      }
    },
    {
      "cell_type": "code",
      "source": [
        "from flask import Flask, render_template\n",
        "\n",
        "app = Flask(__name__)\n",
        "\n",
        "@app.route('/')\n",
        "def home():\n",
        "    return render_template('index.html')  # Ensure index.html is inside a \"templates/\" folder\n",
        "\n",
        "if __name__ == '__main__':\n",
        "    app.run(debug=True)\n"
      ],
      "metadata": {
        "id": "yb2U8BUBoOuA"
      },
      "execution_count": null,
      "outputs": []
    },
    {
      "cell_type": "markdown",
      "source": [
        "5. How can you generate URLs for routes in Flask using url_for?"
      ],
      "metadata": {
        "id": "SfDz-oCSnm8I"
      }
    },
    {
      "cell_type": "code",
      "source": [
        "from flask import Flask, url_for\n",
        "\n",
        "app = Flask(__name__)\n",
        "\n",
        "@app.route('/')\n",
        "def home():\n",
        "    return f\"Go to {url_for('about')}\"\n",
        "\n",
        "@app.route('/about')\n",
        "def about():\n",
        "    return \"About Page\"\n",
        "\n",
        "if __name__ == '__main__':\n",
        "    app.run(debug=True)\n"
      ],
      "metadata": {
        "id": "Ds3nNGH8oQ8-"
      },
      "execution_count": null,
      "outputs": []
    },
    {
      "cell_type": "markdown",
      "source": [
        "6. How do you handle forms in Flask?"
      ],
      "metadata": {
        "id": "vpFrbkE9nrJ_"
      }
    },
    {
      "cell_type": "code",
      "source": [
        "from flask import Flask, render_template, request\n",
        "\n",
        "app = Flask(__name__)\n",
        "\n",
        "@app.route('/', methods=['GET', 'POST'])\n",
        "def form():\n",
        "    if request.method == 'POST':\n",
        "        name = request.form['name']\n",
        "        return f\"Hello, {name}!\"\n",
        "    return render_template('form.html')\n",
        "\n",
        "if __name__ == '__main__':\n",
        "    app.run(debug=True)\n"
      ],
      "metadata": {
        "id": "mTcSUYRNoRya"
      },
      "execution_count": null,
      "outputs": []
    },
    {
      "cell_type": "markdown",
      "source": [
        "7. How can you validate form data in Flask?"
      ],
      "metadata": {
        "id": "ot3xfWF7nxA2"
      }
    },
    {
      "cell_type": "code",
      "source": [
        "from flask import Flask, request\n",
        "\n",
        "app = Flask(__name__)\n",
        "\n",
        "@app.route('/submit', methods=['POST'])\n",
        "def validate():\n",
        "    name = request.form.get('name')\n",
        "    if not name:\n",
        "        return \"Name is required\", 400\n",
        "    return f\"Welcome, {name}!\"\n",
        "\n",
        "if __name__ == '__main__':\n",
        "    app.run(debug=True)\n"
      ],
      "metadata": {
        "id": "sbyM8s_8oSlT"
      },
      "execution_count": null,
      "outputs": []
    },
    {
      "cell_type": "markdown",
      "source": [
        "8. How do you manage sessions in Flask?"
      ],
      "metadata": {
        "id": "nKoYbk2tnyH8"
      }
    },
    {
      "cell_type": "code",
      "source": [
        "from flask import Flask, session\n",
        "\n",
        "app = Flask(__name__)\n",
        "app.secret_key = 'supersecretkey'\n",
        "\n",
        "@app.route('/set/')\n",
        "def set_session():\n",
        "    session['user'] = 'John Doe'\n",
        "    return \"Session set!\"\n",
        "\n",
        "@app.route('/get/')\n",
        "def get_session():\n",
        "    return f\"User: {session.get('user', 'No session set')}\"\n",
        "\n",
        "if __name__ == '__main__':\n",
        "    app.run(debug=True)\n"
      ],
      "metadata": {
        "id": "iMfgvGB8oT5i"
      },
      "execution_count": null,
      "outputs": []
    },
    {
      "cell_type": "markdown",
      "source": [
        "9. How do you redirect to a different route in Flask?"
      ],
      "metadata": {
        "id": "sHZnmcT5n2xs"
      }
    },
    {
      "cell_type": "code",
      "source": [
        "from flask import Flask, redirect, url_for\n",
        "\n",
        "app = Flask(__name__)\n",
        "\n",
        "@app.route('/')\n",
        "def home():\n",
        "    return redirect(url_for('welcome'))\n",
        "\n",
        "@app.route('/welcome')\n",
        "def welcome():\n",
        "    return \"Welcome to the redirected page!\"\n",
        "\n",
        "if __name__ == '__main__':\n",
        "    app.run(debug=True)\n"
      ],
      "metadata": {
        "id": "fDhgl_pwoUl3"
      },
      "execution_count": null,
      "outputs": []
    },
    {
      "cell_type": "markdown",
      "source": [
        "10. How do you handle errors in Flask (e.g., 404)?"
      ],
      "metadata": {
        "id": "52iGlQOPn5op"
      }
    },
    {
      "cell_type": "code",
      "source": [
        "from flask import Flask\n",
        "\n",
        "app = Flask(__name__)\n",
        "\n",
        "@app.errorhandler(404)\n",
        "def not_found(e):\n",
        "    return \"Page not found!\", 404\n",
        "\n",
        "if __name__ == '__main__':\n",
        "    app.run(debug=True)\n"
      ],
      "metadata": {
        "id": "n_3uOZQLoVqq"
      },
      "execution_count": null,
      "outputs": []
    },
    {
      "cell_type": "markdown",
      "source": [
        "11. How do you structure a Flask app using Blueprints?"
      ],
      "metadata": {
        "id": "VX7m-N5zn8xo"
      }
    },
    {
      "cell_type": "code",
      "source": [
        "from flask import Flask, Blueprint\n",
        "\n",
        "app = Flask(__name__)\n",
        "\n",
        "my_blueprint = Blueprint('my_blueprint', __name__)\n",
        "\n",
        "@my_blueprint.route('/blueprint')\n",
        "def blueprint_route():\n",
        "    return \"This is a blueprint route!\"\n",
        "\n",
        "app.register_blueprint(my_blueprint)\n",
        "\n",
        "if __name__ == '__main__':\n",
        "    app.run(debug=True)\n"
      ],
      "metadata": {
        "id": "xaEIMkWjoWbt"
      },
      "execution_count": null,
      "outputs": []
    },
    {
      "cell_type": "markdown",
      "source": [
        "12. How do you define a custom Jinja filter in Flask?"
      ],
      "metadata": {
        "id": "yw5Jijg2n92g"
      }
    },
    {
      "cell_type": "code",
      "source": [
        "from flask import Flask, render_template\n",
        "\n",
        "app = Flask(__name__)\n",
        "\n",
        "@app.template_filter('reverse')\n",
        "def reverse_filter(s):\n",
        "    return s[::-1]\n",
        "\n",
        "@app.route('/')\n",
        "def home():\n",
        "    return render_template('index.html', text=\"Hello\")\n",
        "\n",
        "if __name__ == '__main__':\n",
        "    app.run(debug=True)\n"
      ],
      "metadata": {
        "id": "dHw4a9BroXHV"
      },
      "execution_count": null,
      "outputs": []
    },
    {
      "cell_type": "markdown",
      "source": [
        "13. How can you redirect with query parameters in Flask?"
      ],
      "metadata": {
        "id": "BYh6hyVeoFT3"
      }
    },
    {
      "cell_type": "code",
      "source": [
        "from flask import Flask, redirect, url_for\n",
        "\n",
        "app = Flask(__name__)\n",
        "\n",
        "@app.route('/old-route')\n",
        "def old_route():\n",
        "    return redirect(url_for('new_route', msg=\"Redirected\"))\n",
        "\n",
        "@app.route('/new-route')\n",
        "def new_route():\n",
        "    return f\"New Route: {request.args.get('msg', 'No message')}\"\n",
        "\n",
        "if __name__ == '__main__':\n",
        "    app.run(debug=True)\n"
      ],
      "metadata": {
        "id": "qTls7DAAoXsP"
      },
      "execution_count": null,
      "outputs": []
    },
    {
      "cell_type": "markdown",
      "source": [
        "14. How do you return JSON responses in Flask?"
      ],
      "metadata": {
        "id": "G91rKUu1oIKo"
      }
    },
    {
      "cell_type": "code",
      "source": [
        "from flask import Flask, jsonify\n",
        "\n",
        "app = Flask(__name__)\n",
        "\n",
        "@app.route('/json')\n",
        "def json_response():\n",
        "    return jsonify({\"message\": \"Hello, JSON!\"})\n",
        "\n",
        "if __name__ == '__main__':\n",
        "    app.run(debug=True)\n"
      ],
      "metadata": {
        "id": "xRfoAijPoYJL"
      },
      "execution_count": null,
      "outputs": []
    },
    {
      "cell_type": "markdown",
      "source": [
        "15. How do you capture URL parameters in Flask?"
      ],
      "metadata": {
        "id": "ZWzXdM0YoLBl"
      }
    },
    {
      "cell_type": "code",
      "source": [
        "from flask import Flask\n",
        "\n",
        "app = Flask(__name__)\n",
        "\n",
        "@app.route('/user/<username>')\n",
        "def show_user(username):\n",
        "    return f\"User: {username}\"\n",
        "\n",
        "if __name__ == '__main__':\n",
        "    app.run(debug=True)\n"
      ],
      "metadata": {
        "id": "ysQOrPuKoYo8"
      },
      "execution_count": null,
      "outputs": []
    }
  ]
}